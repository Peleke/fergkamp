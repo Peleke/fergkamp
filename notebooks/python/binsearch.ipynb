{
 "cells": [
  {
   "cell_type": "markdown",
   "id": "bcf5190f-a1bf-4dc9-abcd-89d58c027198",
   "metadata": {},
   "source": [
    "# Binary Search"
   ]
  },
  {
   "cell_type": "markdown",
   "id": "925122d0-e89a-4895-b1b8-2e1daef854ef",
   "metadata": {},
   "source": [
    "## Overview"
   ]
  },
  {
   "cell_type": "markdown",
   "id": "4d1cc3ed-f769-4a70-9cd0-20a5bc84a484",
   "metadata": {},
   "source": [
    "Binary search is a search algorithm used to find the position of a target value within a sorted array. The algorithm works by repeatedly dividing the search interval in half until the target value is found or the search interval is empty. It is an efficient algorithm with a time complexity of O(log n), where n is the number of elements in the array.\n",
    "\n",
    "Here's how binary search works:\n",
    "- Find the middle element of the array.\n",
    "- If the middle element is the target value, return its position.\n",
    "- If the target value is less than the middle element, repeat the search on the left half of the array.\n",
    "- If the target value is greater than the middle element, repeat the search on the right half of the array.\n",
    "- If the target value is not found and the search interval is empty, the target value is not in the array.\n",
    "\n",
    "For example, suppose we want to find the position of the name \"John\" in a phone book. We open the book to the middle and find the name \"Michael.\" Since \"John\" comes before \"Michael\" alphabetically, we repeat the search on the left half of the book. We now have a new search interval that is the left half of the original interval. We continue this process of dividing the search interval in half until we find the name \"John\" or the search interval is empty."
   ]
  },
  {
   "cell_type": "markdown",
   "id": "b1f2cf61-f24b-4575-99ed-ac83f042886c",
   "metadata": {},
   "source": [
    "## \"Animation\""
   ]
  },
  {
   "cell_type": "markdown",
   "id": "fdf539b7-f628-44f4-9b25-c4b93c80dbe3",
   "metadata": {},
   "source": [
    "Here's an \"animation\" of binary search in action:\n",
    "\n",
    "---\n",
    "\n",
    "\n",
    "```sql\n",
    "Initial array: [1, 3, 5, 7, 9, 11, 13, 15]\n",
    "\n",
    "Search for value 9:\n",
    "\n",
    "  1   3   5   7   9  11  13  15\n",
    "  ----------------------------\n",
    "              ^   ^\n",
    "\n",
    "Middle element is 7, which is less than 9. Discard left half:\n",
    "\n",
    "  1   3   5   7   9  11  13  15\n",
    "                  -------\n",
    "                  ^   ^\n",
    "\n",
    "Middle element is 9, which is the target. Return its position.\n",
    "\n",
    "  1   3   5   7   9  11  13  15\n",
    "                  -------\n",
    "                      ^\n",
    "```"
   ]
  },
  {
   "cell_type": "markdown",
   "id": "b2bfbab6-118d-411b-b20f-1dabfca807d8",
   "metadata": {},
   "source": [
    "### Space/Time Complexity"
   ]
  },
  {
   "cell_type": "markdown",
   "id": "d4994cd0-8fe6-4648-9b19-345a7cb3d3d3",
   "metadata": {},
   "source": [
    "The iterative version of binary search has a space complexity of O(1) because it only uses a few variables to keep track of the search interval. Its time complexity is O(log n) because it halves the search interval on each iteration.\n",
    "\n",
    "The recursive version of binary search also has a space complexity of O(log n) because it uses the call stack to keep track of the search interval. Its time complexity is also O(log n) because it divides the search interval in half on each recursive call. Time complexity can be reduced to O(1) if the compiler in use supports [tail-call optimization (TCO)](https://en.wikipedia.org/wiki/Tail_call).\n"
   ]
  },
  {
   "cell_type": "markdown",
   "id": "a891c004-f0b9-486c-a75a-616411ebb696",
   "metadata": {},
   "source": [
    "## Implementation"
   ]
  },
  {
   "cell_type": "code",
   "execution_count": 1,
   "id": "6a205397-490c-45c0-a5f2-aad8eb9a3df0",
   "metadata": {},
   "outputs": [],
   "source": [
    "from typing import Any, List, Optional, Union"
   ]
  },
  {
   "cell_type": "markdown",
   "id": "2dc1771c-6678-4912-9c65-5a6a9ef2b426",
   "metadata": {},
   "source": [
    "### Iterative"
   ]
  },
  {
   "cell_type": "code",
   "execution_count": 2,
   "id": "544fef31-2fee-4511-bf36-094f8150e108",
   "metadata": {},
   "outputs": [],
   "source": [
    "def binary_search(array: List[Any], target: Any) -> Union[Any, int]:\n",
    "    \"\"\"Perform binary search for `target` on `array`, which is assumed to be sorted.\n",
    "    \n",
    "    Complexity\n",
    "      Time   O(lg n)\n",
    "      Space  O(1)\n",
    "    \n",
    "    :param array: List of elements to search.\n",
    "    :type array: List[Any]\n",
    "    \n",
    "    :param target: Element to search for.\n",
    "    :type target: Any\n",
    "    \n",
    "    :return: Return the element matching `target` if the search succeeds, or `-1` otherwise.\n",
    "    :rtype: Union[Any, int]\n",
    "    \"\"\"\n",
    "    left, right = 0, len(array) - 1\n",
    "    mid = round(len(array) / 2)\n",
    "    \n",
    "    while left < right:\n",
    "        if array[mid] == target:\n",
    "            return array[mid]\n",
    "        elif target < array[mid]:\n",
    "            right = mid\n",
    "        elif target > array[mid]:\n",
    "            left = mid\n",
    "        mid = round((left + right) / 2)\n",
    "    \n",
    "    return -1      "
   ]
  },
  {
   "cell_type": "code",
   "execution_count": 5,
   "id": "42e4b74f-a4be-4929-857a-ad7831b03854",
   "metadata": {},
   "outputs": [
    {
     "data": {
      "text/plain": [
       "-1"
      ]
     },
     "execution_count": 5,
     "metadata": {},
     "output_type": "execute_result"
    }
   ],
   "source": [
    "binary_search([1, 2, 4, 5, 6], 10)"
   ]
  },
  {
   "cell_type": "markdown",
   "id": "f1752a5e-ef23-499b-a018-6ff60f966691",
   "metadata": {},
   "source": [
    "### Recursive"
   ]
  },
  {
   "cell_type": "code",
   "execution_count": 95,
   "id": "76cda88d-c838-4cb8-9881-e6df6ddffe85",
   "metadata": {},
   "outputs": [],
   "source": [
    "def rbinsearch(array: List[Any], target: Any, high: Optional[int] = None, low: int = 0) -> Union[Any, int]:\n",
    "    \"\"\"Perform binary search for `target` on `array`, which is assumed to be sorted. Bound the search with\n",
    "    `high` and `low` as upper and lower bounds, respectively.\n",
    "    \n",
    "    Complexity\n",
    "      Time   O(lg n)\n",
    "      Space  O(lg n)\n",
    "    \n",
    "    :param array: List of elements to search.\n",
    "    :type array: List[Any]\n",
    "    \n",
    "    :param target: Element to search for.\n",
    "    :type target: Any\n",
    "    \n",
    "    :param high: Array index representing the upper bound of the search.\n",
    "    :type high: int\n",
    "    \n",
    "    :param low: Array index representing the lower bound of the search.\n",
    "    :type low: int\n",
    "    \n",
    "    :return: Return the element matching `target` if the search succeeds, or `-1` otherwise.\n",
    "    :rtype: Union[Any, int]\n",
    "    \"\"\"\n",
    "    if not high: high = len(array) - 1\n",
    "    mid = round((high + low) / 2)\n",
    "    if low >= high:\n",
    "        return -1\n",
    "    elif array[mid] == target:\n",
    "        return target\n",
    "    elif array[mid] < target:\n",
    "        return rbinsearch(\n",
    "            array=array,\n",
    "            high=high,\n",
    "            low=mid,\n",
    "            target=target\n",
    "        )\n",
    "    elif array[mid] > target:\n",
    "        return rbinsearch(\n",
    "            array=array,\n",
    "            high=mid,\n",
    "            low=low,\n",
    "            target=target\n",
    "        )"
   ]
  },
  {
   "cell_type": "code",
   "execution_count": 23,
   "id": "65af859d-5737-47e2-bfed-24f4774791db",
   "metadata": {},
   "outputs": [],
   "source": [
    "from typing import List, Any, Union"
   ]
  },
  {
   "cell_type": "code",
   "execution_count": 61,
   "id": "368c59e5-89b9-4af2-a885-a09e09ce16b0",
   "metadata": {},
   "outputs": [],
   "source": [
    "def swapleft(pair: List[Any]) -> List[Any]:\n",
    "    if pair[0] > pair[1]: pair[1], pair[0] = pair[0], pair[1]\n",
    "    return pair\n",
    "\n",
    "def quicksort(array: List[Any]) -> List[Any]:\n",
    "    \"\"\"...\"\"\"\n",
    "    if len(array) < 2:\n",
    "        return array\n",
    "    elif len(array) == 2:\n",
    "        return swapleft(array)\n",
    "    else:\n",
    "        return quicksort([x for x in array[1:] if x < array[0]]) \\\n",
    "                + [array[0]] \\\n",
    "                + quicksort([x for x in array[1:] if x > array[0]])"
   ]
  },
  {
   "cell_type": "code",
   "execution_count": 62,
   "id": "935ed87d-8285-49c5-a36e-5f9d0328b0c8",
   "metadata": {},
   "outputs": [
    {
     "data": {
      "text/plain": [
       "[-10000, -100, 1, 2, 4, 10]"
      ]
     },
     "execution_count": 62,
     "metadata": {},
     "output_type": "execute_result"
    }
   ],
   "source": [
    "quicksort([4, 2, 1, 10, -100, -10000])"
   ]
  },
  {
   "cell_type": "code",
   "execution_count": 59,
   "id": "fb440dbe-1adf-441b-a899-1402ddb6b08f",
   "metadata": {},
   "outputs": [],
   "source": [
    "def quicksort([]) = []\n",
    "\n",
    "addpattern match def quicksort([head] + tail) =\n",
    "    quicksort(left) + [head] + quicksort(right) where:\n",
    "        left = [x for x in tail if x < head]\n",
    "        right = [x for x in tail if x >= head]"
   ]
  },
  {
   "cell_type": "code",
   "execution_count": 54,
   "id": "cf54fbf9-65b2-4a3b-9dab-b9b382125928",
   "metadata": {},
   "outputs": [],
   "source": [
    "def ssum(array: List[Union[float, int]]) = array |> reduce$(+)"
   ]
  },
  {
   "cell_type": "code",
   "execution_count": 60,
   "id": "0607740f-667e-4b4b-835e-3f1c21633643",
   "metadata": {},
   "outputs": [
    {
     "data": {
      "text/plain": [
       "[-10000, -100, 1, 2, 4, 10]"
      ]
     },
     "execution_count": 60,
     "metadata": {},
     "output_type": "execute_result"
    }
   ],
   "source": [
    "quicksort([4, 2, 1, 10, -100, -10000])"
   ]
  },
  {
   "cell_type": "markdown",
   "id": "81ff25c2-9095-41bf-b7ea-8ef268818281",
   "metadata": {},
   "source": [
    "#### Mistakes\n",
    "- Initially set `high=mid`, `low=low` in `elif array[mid] < target` and vice versa for `elif array[mid] > target`\n",
    "- Set `low > high` instead of `low >= high` in base case"
   ]
  }
 ],
 "metadata": {
  "kernelspec": {
   "display_name": "Python 3 (ipykernel)",
   "language": "python",
   "name": "python3"
  },
  "language_info": {
   "codemirror_mode": {
    "name": "ipython",
    "version": 3
   },
   "file_extension": ".py",
   "mimetype": "text/x-python",
   "name": "python",
   "nbconvert_exporter": "python",
   "pygments_lexer": "ipython3",
   "version": "3.11.0"
  }
 },
 "nbformat": 4,
 "nbformat_minor": 5
}
