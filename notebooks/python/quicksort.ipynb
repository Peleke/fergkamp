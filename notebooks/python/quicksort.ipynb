{
 "cells": [
  {
   "cell_type": "markdown",
   "id": "6a3597b9-338f-409a-a5af-02eeec9fe674",
   "metadata": {},
   "source": [
    "# Quicksort"
   ]
  },
  {
   "cell_type": "markdown",
   "id": "739d6ada-1759-46f8-a55e-b31bbd63958e",
   "metadata": {},
   "source": [
    "## Overview"
   ]
  },
  {
   "cell_type": "markdown",
   "id": "bf67bab7-032c-496f-84ac-7ba7400ca9a6",
   "metadata": {},
   "source": [
    "Quicksort is a divide-and-conquer sorting algorithm that works by selecting a pivot element and partitioning the array into two sub-arrays, one with elements smaller than the pivot and another with elements greater than the pivot. The sub-arrays are then recursively sorted using the same process until the entire array is sorted.\n",
    "\n",
    "The basic steps of the quicksort algorithm are as follows:\n",
    "- Choose a pivot element from the array.\n",
    "- Rearrange the array so that all elements smaller than the pivot come before it, and all elements greater than the pivot come after it.\n",
    "- Recursively apply the same process to the sub-arrays created by the partitioning until the sub-arrays are of size 1 or 0, which are considered sorted.\n",
    "\n",
    "Let's consider an array of numbers: [7, 2, 1, 6, 8, 5, 3, 4]. \n",
    "- We choose the last element, 4, as the pivot.\n",
    "- After partitioning, the array is rearranged as [2, 1, 3, 4, 8, 5, 7, 6].\n",
    "  - We then recursively apply the same process to the sub-arrays until the entire array is sorted.\\"
   ]
  },
  {
   "cell_type": "markdown",
   "id": "e4fe0d85-3e38-4ea0-ba86-02ace3795601",
   "metadata": {},
   "source": [
    "## Animation"
   ]
  },
  {
   "cell_type": "markdown",
   "id": "9c41714c-2bcc-4e6e-8489-cdccd3129ef3",
   "metadata": {},
   "source": [
    "Here's an ASCII representation of the quicksort algorithm in action:\n",
    "\n",
    "---\n",
    "\n",
    "```yaml\n",
    "Array: [7, 2, 1, 6, 8, 5, 3, 4]\n",
    "\n",
    "Step 1:\n",
    "Pivot: 4\n",
    "Partitioned Array: [2, 1, 3, 4, 8, 5, 7, 6]\n",
    "\n",
    "Step 2:\n",
    "Pivot: 3\n",
    "Partitioned Array: [2, 1, 3, 4, 8, 5, 7, 6]\n",
    "\n",
    "Step 3:\n",
    "Pivot: 2\n",
    "Partitioned Array: [1, 2, 3, 4, 8, 5, 7, 6]\n",
    "\n",
    "Step 4:\n",
    "Pivot: 5\n",
    "Partitioned Array: [1, 2, 3, 4, 5, 8, 7, 6]\n",
    "\n",
    "Step 5:\n",
    "Pivot: 7\n",
    "Partitioned Array: [1, 2, 3, 4, 5, 6, 7, 8]\n",
    "\n",
    "Sorted Array: [1, 2, 3, 4, 5, 6, 7, 8]\n",
    "```"
   ]
  },
  {
   "cell_type": "markdown",
   "id": "139aecdd-0456-4f01-8e19-cd50194495a9",
   "metadata": {},
   "source": [
    "## Space/Time Complexity"
   ]
  },
  {
   "cell_type": "markdown",
   "id": "50818ac7-cfa1-4922-b7cf-fe4b7303263c",
   "metadata": {},
   "source": [
    "Regarding space and time complexity:\n",
    "- Iterative version\n",
    "  - **Time Complexity**: The average and best-case time complexity of quicksort is O(n log n), where n is the number of elements in the array. This is because the algorithm divides the array into roughly equal halves at each step. However, in the worst-case scenario, when the pivot is consistently the smallest or largest element, the time complexity degrades to O(n^2). Efficient pivot selection techniques, such as selecting the median of three random elements, can help mitigate this issue.\n",
    "  - **Space Complexity**: The iterative version of quicksort has a space complexity of O(log n) due to the recursive calls made on the stack. It sorts the array in-place, meaning it does not require additional memory proportional to the input size.\n",
    "- **Recursive version**\n",
    "  - **Time Complexity**: The time complexity for the recursive version of quicksort is the same as the iterative version, with an average and best-case time complexity of O(n log n) and a worst-case time complexity of O(n<sup>2</sup>). The recursive implementation follows a similar partitioning and recursive sorting process as the iterative version.\n",
    "  - **Space Complexity**: The recursive version has a slightly higher space complexity due to the additional recursive function calls made on the stack. The space complexity is O(log n) on average, but in the worst case, it can reach O(n) if the recursive calls form a long chain, potentially leading to stack overflow errors. However, in practice, the space overhead is usually reasonable, especially for large datasets, and the recursive version is often favored for its simplicity and clarity.\n",
    "\n",
    "It's worth noting that quicksort's average-case performance is often faster than other sorting algorithms like mergesort or heapsort. However, its worst-case performance and sensitivity to the pivot selection make it important to consider the characteristics of the input data when choosing the sorting algorithm."
   ]
  },
  {
   "cell_type": "markdown",
   "id": "859ec843-3c78-47d6-a042-b9e166c56723",
   "metadata": {},
   "source": [
    "## Implementation"
   ]
  },
  {
   "cell_type": "markdown",
   "id": "4db3dc2a-6428-4205-918e-a288cbc32433",
   "metadata": {},
   "source": [
    "### Constant Pivot"
   ]
  },
  {
   "cell_type": "markdown",
   "id": "1b8b5d09-b69b-4ce9-9a1d-b46192661e2b",
   "metadata": {},
   "source": [
    "The simplified implementations below select the first element of the array as the pivot on each iteration. This does _not_ guarantee O(n lg n) average time complexity — for that, we need to select a random pivot."
   ]
  },
  {
   "cell_type": "code",
   "execution_count": 2,
   "id": "a804a7bb-b6dd-4280-8f3c-b7fcbc7aa73b",
   "metadata": {},
   "outputs": [],
   "source": [
    "from typing import List, Any, Union, Tuple"
   ]
  },
  {
   "cell_type": "code",
   "execution_count": 6,
   "id": "4041fe86-c787-4381-b1e4-0e01e03cf969",
   "metadata": {},
   "outputs": [
    {
     "name": "stdout",
     "output_type": "stream",
     "text": [
      "ERROR! Session/line number was not unique in database. History logging moved to new session 554\n"
     ]
    }
   ],
   "source": [
    "def swapleft(pair: Tuple[float, float]) -> List[Any]:\n",
    "    \"\"\"Ensure `pair[0] < pair[1]`, and return `pair`.\n",
    "\n",
    "    COMPLEXITY\n",
    "      Space O(1)\n",
    "      Time  O(1)\n",
    "\n",
    "    :param pair: Pair of numbers to sort.\n",
    "    :type pair: Tuple[float, float]\n",
    "\n",
    "    :return: Return `pair` with the condition that `pair[0] <= pair[1]`.\n",
    "    :rtype: Tuple[float, float]\n",
    "    \"\"\"\n",
    "    if pair[0] > pair[1]: pair[1], pair[0] = pair[0], pair[1]\n",
    "    return pair"
   ]
  },
  {
   "cell_type": "code",
   "execution_count": null,
   "id": "07260981-33bc-40f1-b20b-dbfe77c8efee",
   "metadata": {},
   "outputs": [],
   "source": [
    "def quicksort(array: List[Any]) -> List[Any]:\n",
    "    \"\"\"Sort `array` using Quicksort.\n",
    "    \n",
    "    COMPLEXITY\n",
    "      Space O(n)\n",
    "      Time  O(n lg n)\n",
    "\n",
    "    :param array: Array to sort.\n",
    "    :type array: List[Any]\n",
    "\n",
    "    :return: Return sorted version of `array`.\n",
    "    :rtype: List[Any]\n",
    "    \"\"\"\n",
    "    if len(array) < 2:\n",
    "        return array\n",
    "    elif len(array) == 2:\n",
    "        return swapleft(array)\n",
    "    else:\n",
    "        return quicksort([x for x in array[1:] if x < array[0]]) \\\n",
    "                + [array[0]] \\\n",
    "                + quicksort([x for x in array[1:] if x > array[0]])"
   ]
  },
  {
   "cell_type": "code",
   "execution_count": 4,
   "id": "4d4cf523-3c33-42f6-94d3-c23b7ec1a41d",
   "metadata": {},
   "outputs": [],
   "source": [
    "def quicksort([]) = []\n",
    "\n",
    "addpattern match def quicksort([head] + tail) =\n",
    "    quicksort(left) + [head] + quicksort(right) where:\n",
    "        left = [x for x in tail if x < head]\n",
    "        right = [x for x in tail if x >= head]"
   ]
  },
  {
   "cell_type": "code",
   "execution_count": 9,
   "id": "1009f2b5-f314-44b9-8a9d-c96e522cd840",
   "metadata": {},
   "outputs": [
    {
     "data": {
      "text/plain": [
       "[-10000, -100, 1, 2, 4, 10]"
      ]
     },
     "execution_count": 9,
     "metadata": {},
     "output_type": "execute_result"
    }
   ],
   "source": [
    "quicksort([4, 2, 1, 10, -100, -10000])"
   ]
  }
 ],
 "metadata": {
  "kernelspec": {
   "display_name": "Coconut",
   "language": "coconut",
   "name": "coconut"
  },
  "language_info": {
   "codemirror_mode": {
    "name": "python",
    "version": 3
   },
   "file_extension": ".coco",
   "mimetype": "text/x-python3",
   "name": "coconut",
   "pygments_lexer": "coconut",
   "version": "3.0.0"
  }
 },
 "nbformat": 4,
 "nbformat_minor": 5
}
