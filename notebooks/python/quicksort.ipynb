{
 "cells": [
  {
   "cell_type": "markdown",
   "id": "6a3597b9-338f-409a-a5af-02eeec9fe674",
   "metadata": {},
   "source": [
    "# Quicksort"
   ]
  },
  {
   "cell_type": "code",
   "execution_count": 6,
   "id": "a804a7bb-b6dd-4280-8f3c-b7fcbc7aa73b",
   "metadata": {},
   "outputs": [],
   "source": [
    "from typing import List, Any, Union, Tuple"
   ]
  },
  {
   "cell_type": "code",
   "execution_count": 7,
   "id": "4041fe86-c787-4381-b1e4-0e01e03cf969",
   "metadata": {},
   "outputs": [],
   "source": [
    "def swapleft(pair: Tuple[Any, Any]) -> Tuple[Any, Any]:\n",
    "    \"\"\"Ensure the first element of `pair` is less than the second `element`, and return `pair`.\n",
    "\n",
    "    COMPLEXITY\n",
    "        Time  O(1)\n",
    "        Space O(1)\n",
    "        \n",
    "    :param pair: 2-tuple containing comparables to order.\n",
    "    :type pair: Tuple[Any, Any]\n",
    "    \n",
    "    :return: Return `pair` with the lesser element in first position.\n",
    "    :rtype: Tuple[Any, Any]\n",
    "    \"\"\"\n",
    "    if pair[0] > pair[1]:\n",
    "        pair[0], pair[1] = pair[1], pair[0]\n",
    "    return pair"
   ]
  },
  {
   "cell_type": "code",
   "execution_count": 8,
   "id": "4d4cf523-3c33-42f6-94d3-c23b7ec1a41d",
   "metadata": {},
   "outputs": [],
   "source": [
    "def quicksort(array: List[Any]) -> List[Any]:\n",
    "    \"\"\"...\"\"\"\n",
    "    if len(array) < 2:\n",
    "        return array\n",
    "    elif len(array) == 2:\n",
    "        return swapleft(array)\n",
    "    else:\n",
    "        return quicksort([x for x in array[1:] if x < array[0]]) \\\n",
    "                + [array[0]] \\\n",
    "                + quicksort([x for x in array[1:] if x > array[0]])"
   ]
  },
  {
   "cell_type": "code",
   "execution_count": 9,
   "id": "1009f2b5-f314-44b9-8a9d-c96e522cd840",
   "metadata": {},
   "outputs": [
    {
     "data": {
      "text/plain": [
       "[-10000, -100, 1, 2, 4, 10]"
      ]
     },
     "execution_count": 9,
     "metadata": {},
     "output_type": "execute_result"
    }
   ],
   "source": [
    "quicksort([4, 2, 1, 10, -100, -10000])"
   ]
  }
 ],
 "metadata": {
  "kernelspec": {
   "display_name": "Coconut",
   "language": "coconut",
   "name": "coconut"
  },
  "language_info": {
   "codemirror_mode": {
    "name": "python",
    "version": 3
   },
   "file_extension": ".coco",
   "mimetype": "text/x-python3",
   "name": "coconut",
   "pygments_lexer": "coconut",
   "version": "3.0.0"
  }
 },
 "nbformat": 4,
 "nbformat_minor": 5
}
