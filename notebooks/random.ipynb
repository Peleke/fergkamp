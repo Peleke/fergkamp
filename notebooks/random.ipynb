{
 "cells": [
  {
   "cell_type": "markdown",
   "id": "bd948b14-bd6c-4498-a523-0957547f8b82",
   "metadata": {},
   "source": [
    "# Random Coconut Nonsense"
   ]
  },
  {
   "cell_type": "code",
   "execution_count": 1,
   "id": "b481a1cc-2716-48a9-96f4-b471bf99fb52",
   "metadata": {},
   "outputs": [],
   "source": [
    "def factorial(n: int):\n",
    "    if n `isinstance` int and n >= 1:\n",
    "        acc = 1\n",
    "        for x in range(1, n + 1):\n",
    "            acc *= x\n",
    "        return x\n",
    "    else:\n",
    "        raise TypeError(\"argument must be an integer\")"
   ]
  },
  {
   "cell_type": "code",
   "execution_count": 3,
   "id": "1dd5ea6b-c1b6-4abb-9dd0-bd5fb2d4965a",
   "metadata": {},
   "outputs": [
    {
     "name": "stdout",
     "output_type": "stream",
     "text": [
      "1\n"
     ]
    }
   ],
   "source": [
    "1 |> factorial |> print"
   ]
  },
  {
   "cell_type": "code",
   "execution_count": 31,
   "id": "6f321345-50b0-4d7a-98a7-9680d82e6443",
   "metadata": {},
   "outputs": [],
   "source": [
    "def rfactorial(n: int, acc: int) -> int:\n",
    "    match n:\n",
    "        case 0:\n",
    "            return acc\n",
    "        case int() if n > 0:\n",
    "            return rfacotorial(n=n-1, acc=n*acc)\n",
    "    else:\n",
    "        raise TypeError(\"n must be an integer\")"
   ]
  },
  {
   "cell_type": "code",
   "execution_count": 32,
   "id": "31db6b4c-43db-4ef1-a19d-b9c65a200471",
   "metadata": {},
   "outputs": [],
   "source": [
    "def ifactorial(n: int) -> int:\n",
    "    match n:\n",
    "        case 0:\n",
    "            return 1\n",
    "        case int() if n > 0:\n",
    "            return range(1, n+1) |> reduce$(*)\n",
    "    else:\n",
    "        raise TypeError(\"n must be an integer\")"
   ]
  },
  {
   "cell_type": "code",
   "execution_count": 35,
   "id": "44467c14-36ad-4052-88b8-fedd4e492c13",
   "metadata": {},
   "outputs": [
    {
     "data": {
      "text/plain": [
       "9680322675255249156123346514615331205418161260462873360750859919944104623425228207640470674933540169424682360525991982916161596983449594045525553704253602287443197783274656957056546338783001340434094795097553229620273057440272298773179365935914105128629426348958748638226084106818484328004851174161755668480000000000000000000000000000000000000000000000"
      ]
     },
     "execution_count": 35,
     "metadata": {},
     "output_type": "execute_result"
    }
   ],
   "source": [
    "ifactorial(190)"
   ]
  },
  {
   "cell_type": "code",
   "execution_count": 37,
   "id": "031e8517-4aa3-4efe-bba2-68ff9d77dd28",
   "metadata": {},
   "outputs": [],
   "source": [
    "def ifactorial(0) = 1\n",
    "\n",
    "addpattern def ifactorial(int() as n if n > 0) =\n",
    "    range(1, n+1) |> reduce$(*)"
   ]
  },
  {
   "cell_type": "code",
   "execution_count": 38,
   "id": "bd2810ce-f7b9-4d99-8142-bb8bfad2f298",
   "metadata": {},
   "outputs": [
    {
     "data": {
      "text/plain": [
       "788657867364790503552363213932185062295135977687173263294742533244359449963403342920304284011984623904177212138919638830257642790242637105061926624952829931113462857270763317237396988943922445621451664240254033291864131227428294853277524242407573903240321257405579568660226031904170324062351700858796178922222789623703897374720000000000000000000000000000000000000000000000000"
      ]
     },
     "execution_count": 38,
     "metadata": {},
     "output_type": "execute_result"
    }
   ],
   "source": [
    "ifactorial(200)"
   ]
  },
  {
   "cell_type": "code",
   "execution_count": null,
   "id": "30c91cb4-1c42-4f37-a220-e11515f82786",
   "metadata": {},
   "outputs": [],
   "source": [
    "def mergesort("
   ]
  }
 ],
 "metadata": {
  "kernelspec": {
   "display_name": "Coconut",
   "language": "coconut",
   "name": "coconut"
  },
  "language_info": {
   "codemirror_mode": {
    "name": "python",
    "version": 3
   },
   "file_extension": ".coco",
   "mimetype": "text/x-python3",
   "name": "coconut",
   "pygments_lexer": "coconut",
   "version": "3.0.0"
  }
 },
 "nbformat": 4,
 "nbformat_minor": 5
}
