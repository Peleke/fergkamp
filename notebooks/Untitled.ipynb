{
 "cells": [
  {
   "cell_type": "code",
   "execution_count": 2,
   "id": "a804a7bb-b6dd-4280-8f3c-b7fcbc7aa73b",
   "metadata": {},
   "outputs": [],
   "source": [
    "from typing import Any, List"
   ]
  },
  {
   "cell_type": "code",
   "execution_count": 13,
   "id": "64c30271-ca3c-4ea1-8e3f-c56fb9e6e57a",
   "metadata": {},
   "outputs": [],
   "source": [
    "def quicksort(array: List[Any]) -> List[Any]:\n",
    "    \"\"\"...\"\"\"\n",
    "    # O(n lg n) is only guaranteed with random selection\n",
    "    # ...though there exists a linear-time deterministic algorithm as well\n",
    "    if len(array) <= 1:\n",
    "        return array\n",
    "    else:\n",
    "        return quicksort(array[:len(array) // 2]) + [array[len(array) // 2]] + quicksort(array[len(array) // 2:])"
   ]
  },
  {
   "cell_type": "code",
   "execution_count": 14,
   "id": "c70cc5e6-3f5e-455b-bebb-f8200f46679a",
   "metadata": {},
   "outputs": [
    {
     "data": {
      "text/plain": [
       "[-100, 10, 10, 5, 5, 2, 2]"
      ]
     },
     "execution_count": 14,
     "metadata": {},
     "output_type": "execute_result"
    }
   ],
   "source": [
    "quicksort([-100, 10, 5, 2])"
   ]
  },
  {
   "cell_type": "code",
   "execution_count": 9,
   "id": "ac7bf481-864e-4078-8ea1-12362e61f4dd",
   "metadata": {},
   "outputs": [],
   "source": [
    "def quicksort([]) = []\n",
    "\n",
    "addpattern match def quicksort([head] + tail) =\n",
    "    quicksort(left) + [head] + quicksort(right) where:\n",
    "        left = [x for x in tail if x < head]\n",
    "        right = [x for x in tail if x >= head]"
   ]
  },
  {
   "cell_type": "code",
   "execution_count": 10,
   "id": "14c25659-4a5c-4d11-b5c5-c8a7b526d3ea",
   "metadata": {},
   "outputs": [
    {
     "data": {
      "text/plain": [
       "[-100, 2, 5, 10]"
      ]
     },
     "execution_count": 10,
     "metadata": {},
     "output_type": "execute_result"
    }
   ],
   "source": [
    "quicksort([-100, 10, 5, 2])"
   ]
  }
 ],
 "metadata": {
  "kernelspec": {
   "display_name": "Coconut",
   "language": "coconut",
   "name": "coconut"
  },
  "language_info": {
   "codemirror_mode": {
    "name": "python",
    "version": 3
   },
   "file_extension": ".coco",
   "mimetype": "text/x-python3",
   "name": "coconut",
   "pygments_lexer": "coconut",
   "version": "3.0.0"
  }
 },
 "nbformat": 4,
 "nbformat_minor": 5
}
