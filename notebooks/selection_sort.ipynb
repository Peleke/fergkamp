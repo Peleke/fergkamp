{
 "cells": [
  {
   "cell_type": "markdown",
   "id": "31a02e18-6897-4253-aaa2-61883763e57f",
   "metadata": {},
   "source": [
    "# Selection Sort"
   ]
  },
  {
   "cell_type": "markdown",
   "id": "0e200ff8-e35b-4e09-bfcc-c7d8c5bfad63",
   "metadata": {},
   "source": [
    "## Overview"
   ]
  },
  {
   "cell_type": "markdown",
   "id": "488504e5-e0aa-4cd5-a3af-5a5f10edf7c8",
   "metadata": {},
   "source": [
    "### Explanation"
   ]
  },
  {
   "cell_type": "markdown",
   "id": "ed37f910-839f-4025-9cfb-24e0b5a1914b",
   "metadata": {},
   "source": [
    "Selection sort is a simple sorting algorithm that works by repeatedly selecting the minimum element from the unsorted portion of an array and placing it at the beginning of the sorted portion. It has a time complexity of O(n^2), where n is the number of elements in the array.\n",
    "\n",
    "Here's how selection sort works:\n",
    "- Find the minimum element in the unsorted portion of the array.\n",
    "- Swap it with the first element in the unsorted portion of the array.\n",
    "- Move the boundary between the sorted and unsorted portions one element to the right.\n",
    "- Repeat steps 1-3 until the entire array is sorted.\n",
    "\n",
    "For example, suppose we want to sort the array [7, 2, 4, 1, 5, 3, 6]. Here's how selection sort would work on this array:\n",
    "\n",
    "- Iteration 1:\n",
    "  - Minimum element in unsorted portion [7, 2, 4, 1, 5, 3, 6] is 1.\n",
    "  - Swap it with first element in unsorted portion to get [1, 2, 4, 7, 5, 3, 6].\n",
    "  - Sorted portion is now [1], unsorted portion is [2, 4, 7, 5, 3, 6].\n",
    "- Iteration 2:\n",
    "  - Minimum element in unsorted portion [2, 4, 7, 5, 3, 6] is 2.\n",
    "  - Swap it with first element in unsorted portion to get [1, 2, 4, 7, 5, 3, 6].\n",
    "  - Sorted portion is now [1, 2], unsorted portion is [4, 7, 5, 3, 6].\n",
    "- Iteration 3:\n",
    "  - Minimum element in unsorted portion [4, 7, 5, 3, 6] is 3.\n",
    "  - Swap it with first element in unsorted portion to get [1, 2, 3, 7, 5, 4, 6].\n",
    "  - Sorted portion is now [1, 2, 3], unsorted portion is [7, 5, 4, 6].\n",
    "- Iteration 4:\n",
    "  - Minimum element in unsorted portion [7, 5, 4, 6] is 4.\n",
    "  - Swap it with first element in unsorted portion to get [1, 2, 3, 4, 5, 7, 6].\n",
    "  - Sorted portion is now [1, 2, 3, 4], unsorted portion is [5, 7, 6].\n",
    "- Iteration 5:\n",
    "  - Minimum element in unsorted portion [5, 7, 6] is 5.\n",
    "  - Swap it with first element in unsorted portion to get [1, 2, 3, 4, 5, 7, 6].\n",
    "  - Sorted portion is now [1, 2, 3, 4, 5], unsorted portion is [7, 6].\n",
    "- Iteration 6:\n",
    "  - Minimum element in unsorted portion [7, 6] is 6.\n",
    "  - Swap it with first element in unsorted portion to get [1, 2, 3, 4, 5, 6, 7].\n",
    "  - Sorted portion is now [1, 2, 3, 4, 5, 6, 7], unsorted portion is empty."
   ]
  },
  {
   "cell_type": "markdown",
   "id": "92a9e185-4b19-4dd7-8046-fb0add944b5d",
   "metadata": {},
   "source": [
    "### \"Animation\""
   ]
  },
  {
   "cell_type": "markdown",
   "id": "57b11f6c-bd56-466b-8396-d9e3f41ed7c0",
   "metadata": {},
   "source": [
    "Here's an ASCII animation of how selection sort works:\n",
    "\n",
    "---\n",
    "\n",
    "```yaml\n",
    "Unsorted array: [7, 2, 4, 1, 5, 3, 6]\n",
    "\n",
    "Iteration 1: [1, 2, 4, 7, 5, 3, 6]\n",
    "Iteration 2: [1, 2, 3, 7, 5, 4, 6]\n",
    "Iteration 3: [1, 2, 3, 4, 5, 7, 6]\n",
    "Iteration 4: [1, 2, 3, 4, 5, 6, 7]\n",
    "```\n",
    "\n",
    "As you can see, after four iterations, the entire array is sorted in ascending order."
   ]
  },
  {
   "cell_type": "markdown",
   "id": "02b5646a-8b60-43fc-b03b-036b7eb533f5",
   "metadata": {},
   "source": [
    "### Complexity\n"
   ]
  },
  {
   "cell_type": "markdown",
   "id": "86e26981-afd5-42f2-b182-f56f0314fc7c",
   "metadata": {},
   "source": [
    "Selection sort has a time complexity of O(n<sup>2</sup>) because it has to compare each element in the unsorted portion of the array with every other element to find the minimum. This means that as the size of the input array increases, the number of comparisons and swaps also increases exponentially.\n",
    "\n",
    "The space complexity of selection sort is O(1) because it only requires a constant amount of extra space to store temporary variables used in swapping elements. It doesn't require any additional space proportional to the size of the input array.\n",
    "\n",
    "If implemented recursively, space complexity os O(n), because the algorithm invokes itself and stores a linearly increasing number of frames on the call stack. There's no time benefit to recursion, so it's strictly better to implement this iteratively, unless your compiler implements TCO.\n",
    "\n",
    "In summary, selection sort is a simple sorting algorithm that is easy to implement but has a time complexity of O(n<sup>2</sup>), making it inefficient for large input sizes. However, its space complexity of O(1) makes it a good option when memory usage is a concern."
   ]
  },
  {
   "cell_type": "code",
   "execution_count": 57,
   "id": "1d869019-d0ed-4489-bb4d-fc8f0093e9fc",
   "metadata": {},
   "outputs": [],
   "source": [
    "from typing import Any, Dict, List, Union"
   ]
  },
  {
   "cell_type": "markdown",
   "id": "1e996e5b-8651-40f4-8917-b0ee0d83aae2",
   "metadata": {},
   "source": [
    "#### Implementation 1\n",
    "This implementation performs an in-place sort to avoid invoking `pop`, which I just don't like."
   ]
  },
  {
   "cell_type": "code",
   "execution_count": 64,
   "id": "fce1cd5f-4388-4e0d-ab57-6081feba7d3c",
   "metadata": {},
   "outputs": [],
   "source": [
    "def selection_sort(array: List[Any]) -> List[Any]:\n",
    "    \"\"\"Return a sorted copy of `array`. Updates `array` in-place.\n",
    "    \n",
    "    Complexity\n",
    "        Time   O(n^2)\n",
    "        Space  O(2)\n",
    "        \n",
    "    :param array: List of comparables to sort.\n",
    "    :type array: List[Any]\n",
    "    \n",
    "    :return: Sorted copy of `array`.\n",
    "    :rtype: List[Any]\n",
    "    \"\"\"\n",
    "    mindex = None\n",
    "    swapdex = 0\n",
    "    while swapdex < len(array):\n",
    "        mn = array[0]\n",
    "        for index, i in enumerate(array[swapdex:]):\n",
    "            if i < mn:\n",
    "                mn = i\n",
    "                mindex = index + swapdex\n",
    "        array[swapdex], array[mindex] = array[mindex], array[swapdex]\n",
    "        swapdex += 1 \n",
    "    return array"
   ]
  },
  {
   "cell_type": "markdown",
   "id": "7f4290e9-169a-461a-bdf1-5abbaced3e0a",
   "metadata": {},
   "source": [
    "#### Implementation 2\n",
    "This is the more natural implementation, using a linear `find_min` helper function to find the element to pop, within a linear list comprehension to build the sorted array. This also uses extra space for the new, sorted array. The badass list comprehension makes up for the space complexity."
   ]
  },
  {
   "cell_type": "markdown",
   "id": "69f1cf1b-a2c3-4519-83c0-9eecf55b91c6",
   "metadata": {},
   "source": [
    "I wrote `search` for...Some reason, I don't use it though."
   ]
  },
  {
   "cell_type": "code",
   "execution_count": 44,
   "id": "b1d4925f-8769-496e-badd-baf6701bbb7d",
   "metadata": {},
   "outputs": [],
   "source": [
    "def search(array: List, target: Any) -> Union[Any, int]:\n",
    "    \"\"\"Perform a linear scan for `target` in `array`, returning either the first element in `array` matching `target`\n",
    "    or `-1` if no match is found.\n",
    "    \n",
    "    Complexity\n",
    "        Time   O(n)\n",
    "        Space  O(n)\n",
    "    \n",
    "    :param array: List of elements to search for `target`.\n",
    "    :type array: List[Any]\n",
    "    \n",
    "    :param target: Entity to search for in `array`.\n",
    "    :type target: Any\n",
    "    \n",
    "    :return: Return either the first element in `array` matching `target`, or `-1` if no match is found.\n",
    "    :rtype: Union[Any, int]\n",
    "    \"\"\"\n",
    "    return array[array.index(target)] if target in array else -1"
   ]
  },
  {
   "cell_type": "code",
   "execution_count": 61,
   "id": "5b0922eb-2a09-439d-a2b1-0655e47234fd",
   "metadata": {},
   "outputs": [],
   "source": [
    "def find_min(array: List[Union[float, int]]) -> Dict[str, Union[float, int]]:\n",
    "    \"\"\"Find the minimum element of `array`.\n",
    "    \n",
    "    Complexity\n",
    "        Time   O(n)\n",
    "        Space  O(1)\n",
    "    \n",
    "    :param array: List of numbers of which to find the minimum.\n",
    "    :type array: List[Any]\n",
    "    \n",
    "    :return: Minimum element of `array`.\n",
    "    :rtype: Dict[str, Union[float, int]]\n",
    "    \"\"\"\n",
    "    mn = array[0]\n",
    "    mindex = 0\n",
    "    for index, element in enumerate(array):\n",
    "        if element < mn:\n",
    "            mindex = index\n",
    "            mn = element\n",
    "    return {\n",
    "        \"index\": mindex,\n",
    "        \"minimum\": mn,\n",
    "    }"
   ]
  },
  {
   "cell_type": "code",
   "execution_count": 62,
   "id": "babe8e05-f093-4e38-8cba-d248b288b9eb",
   "metadata": {},
   "outputs": [],
   "source": [
    "def selection_sort(array: List[Any]) -> List[Any]:\n",
    "    \"\"\"Return a sorted copy of `array`. Does not update `array` in-place.\n",
    "    \n",
    "    Complexity\n",
    "        Time   O(n^2)\n",
    "        Space  O(n)\n",
    "        \n",
    "    :param array: List of comparables to sort.\n",
    "    :type array: List[Any]\n",
    "    \n",
    "    :return: Sorted copy of `array`.\n",
    "    :rtype: List[Any]\n",
    "    \"\"\"\n",
    "    return [array.pop(find_min(array)[\"index\"]) for _ in range(len(array))]"
   ]
  },
  {
   "cell_type": "code",
   "execution_count": 63,
   "id": "7ca62a1a-34d4-4ee8-9d9e-ad35a22cc584",
   "metadata": {},
   "outputs": [
    {
     "name": "stdout",
     "output_type": "stream",
     "text": [
      "[-200, 1, 2, 3, 4, 5, 10, 100]\n"
     ]
    }
   ],
   "source": [
    "print(selection_sort([5, 4, 10, 100, -200, 3, 2, 1]))"
   ]
  },
  {
   "cell_type": "markdown",
   "id": "df5e5fed-84bc-4610-a149-51a678af2860",
   "metadata": {},
   "source": [
    "#### Recursive"
   ]
  },
  {
   "cell_type": "markdown",
   "id": "3aa556f0-c5e5-455b-9c06-08949182ff3b",
   "metadata": {},
   "source": [
    "Loops represent recursion, so just to prove a point..."
   ]
  },
  {
   "cell_type": "code",
   "execution_count": 109,
   "id": "a87b8b59-5410-4fa6-8b43-0106f740b84f",
   "metadata": {},
   "outputs": [],
   "source": [
    "def push(array: List[Any], element: Any) -> List[Any]:\n",
    "    \"\"\"Append `element` to array and return the updated array. Like `append` should do in the first place.\n",
    "    \n",
    "    :param array: Array to which to append `element`.\n",
    "    :type array: List[Any]\n",
    "    \n",
    "    :param element: Element to append to `array`.\n",
    "    :type element: Any\n",
    "    \n",
    "    :return: Return `array` after appending `element`.\n",
    "    :rtype: List[Any]\n",
    "    \"\"\"\n",
    "    array.append(element)\n",
    "    return array"
   ]
  },
  {
   "cell_type": "code",
   "execution_count": 114,
   "id": "0efb190c-de9d-4cde-8534-7721e0b43185",
   "metadata": {},
   "outputs": [],
   "source": [
    "def rselection_sort(array: List[Any], sortiert: List[Any] = []) -> List[Any]:\n",
    "    \"\"\"Return a sorted copy of `array`. Does not update `array` in-place.\n",
    "    \n",
    "    Complexity\n",
    "        Time   O(n^2)\n",
    "        Space  O(n) (?)\n",
    "        \n",
    "    :param array: List of comparables to sort.\n",
    "    :type array: List[Any]\n",
    "    \n",
    "    :return: Sorted copy of `array`.\n",
    "    :rtype: List[Any]\n",
    "    \"\"\"\n",
    "    if not len(array):\n",
    "        return sortiert\n",
    "    else:\n",
    "        return rselection_sort(\n",
    "            array=array,\n",
    "            sortiert=push(\n",
    "                array=sortiert,\n",
    "                element=array.pop(find_min(array)[\"index\"]),\n",
    "            )\n",
    "        )"
   ]
  },
  {
   "cell_type": "code",
   "execution_count": 115,
   "id": "af06f9b3-3486-442c-9e17-d6556f3d44f4",
   "metadata": {},
   "outputs": [
    {
     "name": "stdout",
     "output_type": "stream",
     "text": [
      "[-200, 1, 2, 3, 4, 5, 10, 10, 100]\n"
     ]
    }
   ],
   "source": [
    "print(rselection_sort([5, 4, 10, 100, -200, 3, 2, 1, 10]))"
   ]
  }
 ],
 "metadata": {
  "kernelspec": {
   "display_name": "Python 3 (ipykernel)",
   "language": "python",
   "name": "python3"
  },
  "language_info": {
   "codemirror_mode": {
    "name": "ipython",
    "version": 3
   },
   "file_extension": ".py",
   "mimetype": "text/x-python",
   "name": "python",
   "nbconvert_exporter": "python",
   "pygments_lexer": "ipython3",
   "version": "3.10.1"
  }
 },
 "nbformat": 4,
 "nbformat_minor": 5
}
