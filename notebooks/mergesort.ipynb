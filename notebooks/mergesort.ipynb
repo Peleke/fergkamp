{
 "cells": [
  {
   "cell_type": "markdown",
   "id": "9962e9b0-e849-43f6-9018-01917f30f459",
   "metadata": {},
   "source": [
    "# Mergesort"
   ]
  },
  {
   "cell_type": "code",
   "execution_count": 37,
   "id": "db99694c-e174-4d8a-9182-f342a3253e57",
   "metadata": {},
   "outputs": [],
   "source": [
    "from typing import Any, List, Optional, Tuple"
   ]
  },
  {
   "cell_type": "markdown",
   "id": "8c025ccc-3b63-4037-acae-6e39cf553857",
   "metadata": {},
   "source": [
    "## Overview"
   ]
  },
  {
   "cell_type": "markdown",
   "id": "e7efcd9f-016d-43d2-bd5d-7f85f5daed23",
   "metadata": {},
   "source": [
    "Merge sort is a divide-and-conquer sorting algorithm. It works by recursively dividing the input array into smaller halves, sorting them individually, and then merging them back together to obtain a sorted array. The main steps of merge sort are as follows:\n",
    "- **Divide**: The unsorted array is recursively divided into two halves until each half contains only one element or is empty.\n",
    "- **Conquer**: The two smaller halves are sorted independently using merge sort.\n",
    "- **Combine**: The sorted halves are then merged back together by comparing and merging the elements in a sorted manner until a single sorted array is obtained.\n",
    "\n",
    "The process of repeatedly dividing, sorting, and merging continues until the entire array is sorted."
   ]
  },
  {
   "cell_type": "markdown",
   "id": "9cf1eb66-0394-4a2c-91ea-139e389bc3e7",
   "metadata": {},
   "source": [
    "## Example"
   ]
  },
  {
   "cell_type": "markdown",
   "id": "c76448df-5e71-40cc-8d14-d8aefda67d48",
   "metadata": {},
   "source": [
    "For example, let's consider an array of numbers: [5, 1, 9, 2, 7]. Here's how merge sort would work on this array:\n",
    "- **Divide**: The array is divided into two halves: [5, 1] and [9, 2, 7].\n",
    "- **Conquer**: Each half is recursively sorted. The first half becomes [1, 5], and the second half becomes [2, 7, 9].\n",
    "- **Combine**: The sorted halves are merged back together. Comparing the elements, we start with [1] and [2]. Since 1 is smaller, it comes first. Then we compare [5] and [2]. Since 2 is smaller, it comes next. We compare [5] and [7], and [7] comes next. Finally, we compare [5] and [9], and [9] comes last. The merged array is [1, 2, 5, 7, 9].\n",
    "Here's an ASCII animation of how merge sort works:"
   ]
  },
  {
   "cell_type": "markdown",
   "id": "1ee35510-597e-4c6f-a1fb-a39c8b247767",
   "metadata": {},
   "source": [
    "## \"Animation\""
   ]
  },
  {
   "cell_type": "markdown",
   "id": "e9cd40a4-70d5-4652-a62a-79c2dfac9e6a",
   "metadata": {},
   "source": [
    "```less\n",
    "Unsorted array: [5, 1, 9, 2, 7]\n",
    "\n",
    "    [5, 1, 9, 2, 7]\n",
    "          /\\\n",
    "         /  \\\n",
    "  [5, 1]    [9, 2, 7]\n",
    "    /\\          /\\\n",
    "   /  \\        /  \\\n",
    " [5]  [1]    [9, 2] [7]\n",
    "               /\\     /\\\n",
    "              /  \\   /  \\\n",
    "            [9]  [2] [7]\n",
    "                  \\   /\n",
    "                   \\ /\n",
    "                 [2, 7]\n",
    "          /\\         /\\\n",
    "         /  \\       /  \\\n",
    "       [2]  [7]   [9]\n",
    "          \\      /\n",
    "           \\    /\n",
    "         [2, 7, 9]\n",
    "           /    \\\n",
    "          /      \\\n",
    "     [1, 2, 5, 7, 9]\n",
    "\n",
    "```"
   ]
  },
  {
   "cell_type": "markdown",
   "id": "01031c13-ac0a-454d-8df5-205400d929ce",
   "metadata": {},
   "source": [
    "The iterative version of merge sort has a space complexity of O(n) because it requires an auxiliary array of the same size as the input array to store the merged subarrays during the merging process. Its time complexity is O(n log n) because it divides the array into halves in each recursion and performs a linear merge on each level.\n",
    "\n",
    "The recursive version of merge sort also has a space complexity of O(n) due to the recursion stack. Its time complexity is also O(n log n) because it recursively divides the array into halves, and during the merging process, each element is compared only once. However, the recursive version may have a slightly higher constant factor due to the function call overhead."
   ]
  },
  {
   "cell_type": "markdown",
   "id": "25bc612a-ee8e-470b-bb86-531233bf303d",
   "metadata": {},
   "source": [
    "## Python"
   ]
  },
  {
   "cell_type": "code",
   "execution_count": 35,
   "id": "f68395b8-b23f-4060-8dcb-4dd41d579c4b",
   "metadata": {},
   "outputs": [],
   "source": [
    "def push(array: List[Any], element: Any) -> List[Any]:\n",
    "    \"\"\"Append an element to an array, and return the resulting array. What `append` should do in the first place.\n",
    "    \n",
    "    COMPLEXITY\n",
    "        Time  O(1)\n",
    "        Space O(1)\n",
    "    \n",
    "    :param array: List to which to append `element`.\n",
    "    :type array: List[Any]\n",
    "    \n",
    "    :param element: Element to append to `array`.\n",
    "    :type element: Any\n",
    "    \n",
    "    :return: Return `array` with `element` after appending `element`.\n",
    "    :rtype: List[Any]\n",
    "    \"\"\"\n",
    "    array.append(element)\n",
    "    return array"
   ]
  },
  {
   "cell_type": "code",
   "execution_count": 36,
   "id": "b2b293d5-3b29-41d5-b1a5-6af662274d3d",
   "metadata": {},
   "outputs": [],
   "source": [
    "def rextend(array: List[Any], appended: List[Any]) -> List[Any]:\n",
    "    \"\"\"Extend `array` with the elements in `appended`.\n",
    "    \n",
    "    COMPLEXITY\n",
    "        Time  O(1)\n",
    "        Space O(1)\n",
    "    \n",
    "    :param array: Element into which to append the elements of `appended`.\n",
    "    :type array: List[Any]\n",
    "    \n",
    "    :param appended: List of elements with which to extend `array`.\n",
    "    :type appended: List[Any]\n",
    "    \n",
    "    :return: Return `array` with elements of `appended` appended to the end.\n",
    "    :rtype: List[Any]\n",
    "    \"\"\"\n",
    "    array.extend(appended)\n",
    "    return array"
   ]
  },
  {
   "cell_type": "code",
   "execution_count": 34,
   "id": "17662786-f093-4d42-b6e8-45f041b7c359",
   "metadata": {},
   "outputs": [],
   "source": [
    "def merge(arr1: List[Any], arr2: List[Any], merged: List[Any] = None) -> List[Any]:\n",
    "    \"\"\"Interleave `arr1` and `arr2` such that the result contains all elements in `arr1` and `arr2` in sorted order.\n",
    "    The somewhat ugly first line is included as a convenience, allowing the user to invoke `merge` without passing\n",
    "    an empty `merged` array on the initial call. This has the benefit of enabling a tail-recursive implementation,\n",
    "    which the Coconut compiler will actually optimize.\n",
    "    \n",
    "    COMPLEXITY\n",
    "        Time  O(n)\n",
    "        Space O(n)\n",
    "        \n",
    "    :param arr1: Array whose values to interleave with `arr2`.\n",
    "    :type arr1: List[Any]\n",
    "    \n",
    "    :param arr2: Array whose values to interleave with `arr1`.\n",
    "    :param arr2: List[Any]\n",
    "    \n",
    "    :return: List containing all elements of `arr1` and `arr2` in sorted order.\n",
    "    :rtype: List[Any]\n",
    "    \"\"\"\n",
    "    if not merged: merged = []\n",
    "    if not len(arr1):\n",
    "        return rextend(merged, arr2)\n",
    "    elif not len(arr2):\n",
    "        return rextend(merged, arr1)\n",
    "    elif arr1[0] < arr2[0]:\n",
    "        return merge(arr1=arr1, arr2=arr2, merged=push(merged, arr1.pop(0)))\n",
    "    else:\n",
    "        return merge(arr1=arr1, arr2=arr2, merged=push(merged, arr2.pop(0)))"
   ]
  },
  {
   "cell_type": "code",
   "execution_count": 40,
   "id": "37ba4e58-8bba-4365-b863-ef83c2322775",
   "metadata": {},
   "outputs": [],
   "source": [
    "def swapleft(pair: Tuple[Any, Any]) -> Tuple[Any, Any]:\n",
    "    \"\"\"Ensure the first element of `pair` is less than the second `element`, and return `pair`.\n",
    "\n",
    "    COMPLEXITY\n",
    "        Time  O(1)\n",
    "        Space O(1)\n",
    "        \n",
    "    :param pair: 2-tuple containing comparables to order.\n",
    "    :type pair: Tuple[Any, Any]\n",
    "    \n",
    "    :return: Return `pair` with the lesser element in first position.\n",
    "    :rtype: Tuple[Any, Any]\n",
    "    \"\"\"\n",
    "    if pair[0] > pair[1]:\n",
    "        pair[0], pair[1] = pair[1], pair[0]\n",
    "    return pair"
   ]
  },
  {
   "cell_type": "code",
   "execution_count": null,
   "id": "e1900c10-36e5-411a-b230-f7a019bea633",
   "metadata": {},
   "outputs": [],
   "source": [
    "def mergesort(array: List[Any]) -> List[Any]:\n",
    "    \"\"\"Sort `array` recursively.\n",
    "    \n",
    "    COMPLEXITY\n",
    "        Time   O(n lg n)\n",
    "        Space  O(n)\n",
    "        \n",
    "    :param array: Array to sort.\n",
    "    :type array: List[Any]\n",
    "    \n",
    "    :return: Return sorted version of `array`.\n",
    "    :rtype: List[Any]\n",
    "    \"\"\"\n",
    "    if len(array) <= 1:\n",
    "        return array\n",
    "    elif len(array) == 2:\n",
    "        return swapleft(tuple(array))\n",
    "    else:\n",
    "        return merge(mergesort(array[:len(array) // 2]), mergesort(array[len(array) // 2:]))"
   ]
  },
  {
   "cell_type": "code",
   "execution_count": 32,
   "id": "d4daaea4-d96c-491b-8073-0a9ec2a0f645",
   "metadata": {},
   "outputs": [
    {
     "data": {
      "text/plain": [
       "[-100, 1, 2, 3, 5, 7, 100]"
      ]
     },
     "execution_count": 32,
     "metadata": {},
     "output_type": "execute_result"
    }
   ],
   "source": [
    "mergesort([1, 3, 2, 5, 7, 100, -100])"
   ]
  },
  {
   "cell_type": "markdown",
   "id": "6f01daf9-8293-4bd0-9153-b284c7392026",
   "metadata": {},
   "source": [
    "## Coconut"
   ]
  },
  {
   "cell_type": "markdown",
   "id": "00558038-8c51-42ea-827d-224b06f61d0a",
   "metadata": {},
   "source": [
    "Below is an implementation using [Coconut](https://coconut-lang.org/), a superset of Python exposing purely functional features.\n",
    "\n",
    "This implementation uses [pattern matching](https://en.wikipedia.org/wiki/Pattern_matching) to define a piecewise (i.e., case-wise) function, where execution is dispatched to the correct case based on the shape of the argument, viz.:\n",
    "- Arguments of shape `[x]`, where `x` may be null (thus allowing `[x] for x not None` _and_ the empty list, `[]`)\n",
    "- Arguments of shape `a := [x, y, ...]`, where `len(a) >= 2`\n",
    "\n",
    "Note, as well, that Coconut allows one to define functions with `=` instead of `:`. With this syntax, the final line of the function must be an expression, which will be automatically returned (_without_ the use of the `return` keyword). This idiom is particularly useful when defining `addpattern` cases."
   ]
  },
  {
   "cell_type": "code",
   "execution_count": 15,
   "id": "aeb28177-417f-4ac0-89f6-416642cf69db",
   "metadata": {},
   "outputs": [],
   "source": [
    "def mergesort([x]) = [x]\n",
    "\n",
    "addpattern match def mergesort(array) =\n",
    "    merge(mergesort(array[:len(array) // 2]), mergesort(array[len(array) // 2:]))"
   ]
  },
  {
   "cell_type": "code",
   "execution_count": 14,
   "id": "bcceed7d-5309-44fd-a3bf-671eba9b8c51",
   "metadata": {},
   "outputs": [
    {
     "data": {
      "text/plain": [
       "[-100, -59, 1, 10, 22]"
      ]
     },
     "execution_count": 14,
     "metadata": {},
     "output_type": "execute_result"
    }
   ],
   "source": [
    "mergesort([1, -100, 10, 22, -59])"
   ]
  }
 ],
 "metadata": {
  "kernelspec": {
   "display_name": "Coconut",
   "language": "coconut",
   "name": "coconut"
  },
  "language_info": {
   "codemirror_mode": {
    "name": "python",
    "version": 3
   },
   "file_extension": ".coco",
   "mimetype": "text/x-python3",
   "name": "coconut",
   "pygments_lexer": "coconut",
   "version": "3.0.0"
  }
 },
 "nbformat": 4,
 "nbformat_minor": 5
}
