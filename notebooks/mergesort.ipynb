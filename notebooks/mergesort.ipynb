{
 "cells": [
  {
   "cell_type": "markdown",
   "id": "9962e9b0-e849-43f6-9018-01917f30f459",
   "metadata": {},
   "source": [
    "# Mergesort"
   ]
  },
  {
   "cell_type": "code",
   "execution_count": null,
   "id": "db99694c-e174-4d8a-9182-f342a3253e57",
   "metadata": {},
   "outputs": [],
   "source": [
    "from typing import Any, List"
   ]
  },
  {
   "cell_type": "markdown",
   "id": "25bc612a-ee8e-470b-bb86-531233bf303d",
   "metadata": {},
   "source": [
    "## Python"
   ]
  },
  {
   "cell_type": "code",
   "execution_count": null,
   "id": "814819a4-78af-4589-b697-5fda28f6d2e3",
   "metadata": {},
   "outputs": [],
   "source": [
    "def pophead(array: List[Any]) -> Any:\n",
    "    \"\"\"...\"\"\"\n",
    "    return array.pop(0)"
   ]
  },
  {
   "cell_type": "code",
   "execution_count": null,
   "id": "f68395b8-b23f-4060-8dcb-4dd41d579c4b",
   "metadata": {},
   "outputs": [],
   "source": [
    "def push(array: List[Any], element: Any) -> List[Any]:\n",
    "    array.append(element)\n",
    "    return array"
   ]
  },
  {
   "cell_type": "code",
   "execution_count": 17,
   "id": "b2b293d5-3b29-41d5-b1a5-6af662274d3d",
   "metadata": {},
   "outputs": [],
   "source": [
    "def rextend(array: List[Any], appended: List[Any]) -> List[Any]:\n",
    "    array.extend(appended)\n",
    "    return array"
   ]
  },
  {
   "cell_type": "code",
   "execution_count": 16,
   "id": "17662786-f093-4d42-b6e8-45f041b7c359",
   "metadata": {},
   "outputs": [],
   "source": [
    "def merge(arr1: List[Any], arr2: List[Any], merged: List[Any] = None) -> List[Any]:\n",
    "    if not merged: merged = []\n",
    "    if not len(arr1):\n",
    "        return rextend(merged, arr2)\n",
    "    elif not len(arr2):\n",
    "        return rextend(merged, arr1)\n",
    "    elif arr1[0] < arr2[0]:\n",
    "        return merge(arr1=arr1, arr2=arr2, merged=push(merged, )\n",
    "    else:\n",
    "        return merge(arr1=arr1, arr2=arr2, merged=pophead(arr2))"
   ]
  },
  {
   "cell_type": "code",
   "execution_count": null,
   "id": "37ba4e58-8bba-4365-b863-ef83c2322775",
   "metadata": {},
   "outputs": [],
   "source": [
    "def swapleft(pair: List[Any]) -> List[Any]:\n",
    "    \"\"\"...\"\"\"\n",
    "    if pair[0] > pair[1]:\n",
    "        pair[0], pair[1] = pair[1], pair[0]\n",
    "    return pair"
   ]
  },
  {
   "cell_type": "code",
   "execution_count": null,
   "id": "e1900c10-36e5-411a-b230-f7a019bea633",
   "metadata": {},
   "outputs": [],
   "source": [
    "def mergesort(array: List[Any]) -> List[Any]:\n",
    "    \"\"\"...\"\"\"\n",
    "    if len(array) <= 1:\n",
    "        return array\n",
    "    elif len(array) == 2:\n",
    "        return swapleft(array)\n",
    "    else:\n",
    "        return merge(mergesort(array[:len(array) // 2]), mergesort(array[len(array) // 2:]))"
   ]
  },
  {
   "cell_type": "code",
   "execution_count": null,
   "id": "d4daaea4-d96c-491b-8073-0a9ec2a0f645",
   "metadata": {},
   "outputs": [
    {
     "ename": "AttributeError",
     "evalue": "'int' object has no attribute 'extend'",
     "output_type": "error",
     "traceback": [
      "\u001b[0;31m---------------------------------------------------------------------------\u001b[0m",
      "\u001b[0;31mAttributeError\u001b[0m                            Traceback (most recent call last)",
      "Cell \u001b[0;32mIn[24], line 1\u001b[0m\n\u001b[0;32m----> 1\u001b[0m \u001b[43mmergesort\u001b[49m\u001b[43m(\u001b[49m\u001b[43m[\u001b[49m\u001b[38;5;241;43m1\u001b[39;49m\u001b[43m,\u001b[49m\u001b[43m \u001b[49m\u001b[38;5;241;43m3\u001b[39;49m\u001b[43m,\u001b[49m\u001b[43m \u001b[49m\u001b[38;5;241;43m2\u001b[39;49m\u001b[43m,\u001b[49m\u001b[43m \u001b[49m\u001b[38;5;241;43m5\u001b[39;49m\u001b[43m,\u001b[49m\u001b[43m \u001b[49m\u001b[38;5;241;43m7\u001b[39;49m\u001b[43m,\u001b[49m\u001b[43m \u001b[49m\u001b[38;5;241;43m100\u001b[39;49m\u001b[43m,\u001b[49m\u001b[43m \u001b[49m\u001b[38;5;241;43m-\u001b[39;49m\u001b[38;5;241;43m100\u001b[39;49m\u001b[43m]\u001b[49m\u001b[43m)\u001b[49m  \u001b[38;5;66;03m#1: mergesort([1, 3, 2, 5, 7, 100, -100])\u001b[39;00m\n",
      "File \u001b[0;32m<string>:205\u001b[0m, in \u001b[0;36mtail_call_optimized_func\u001b[0;34m(*args, **kwargs)\u001b[0m\n",
      "Cell \u001b[0;32mIn[23], line 9\u001b[0m, in \u001b[0;36mmergesort\u001b[0;34m(array)\u001b[0m\n\u001b[1;32m      7\u001b[0m     \u001b[38;5;28;01mreturn\u001b[39;00m _coconut_tail_call(swapleft, array)  \u001b[38;5;66;03m#6:         return swapleft(array)\u001b[39;00m\n\u001b[1;32m      8\u001b[0m \u001b[38;5;28;01melse\u001b[39;00m:  \u001b[38;5;66;03m#7:     else:\u001b[39;00m\n\u001b[0;32m----> 9\u001b[0m     \u001b[38;5;28;01mreturn\u001b[39;00m _coconut_tail_call(merge, \u001b[43mmergesort\u001b[49m\u001b[43m(\u001b[49m\u001b[43marray\u001b[49m\u001b[43m[\u001b[49m\u001b[43m:\u001b[49m\u001b[38;5;28;43mlen\u001b[39;49m\u001b[43m(\u001b[49m\u001b[43marray\u001b[49m\u001b[43m)\u001b[49m\u001b[43m \u001b[49m\u001b[38;5;241;43m/\u001b[39;49m\u001b[38;5;241;43m/\u001b[39;49m\u001b[43m \u001b[49m\u001b[38;5;241;43m2\u001b[39;49m\u001b[43m]\u001b[49m\u001b[43m)\u001b[49m, mergesort(array[\u001b[38;5;28mlen\u001b[39m(array) \u001b[38;5;241m/\u001b[39m\u001b[38;5;241m/\u001b[39m \u001b[38;5;241m2\u001b[39m:]))\n",
      "File \u001b[0;32m<string>:205\u001b[0m, in \u001b[0;36mtail_call_optimized_func\u001b[0;34m(*args, **kwargs)\u001b[0m\n",
      "Cell \u001b[0;32mIn[17], line 2\u001b[0m, in \u001b[0;36mrextend\u001b[0;34m(array, appended)\u001b[0m\n\u001b[1;32m      1\u001b[0m \u001b[38;5;28;01mdef\u001b[39;00m \u001b[38;5;21mrextend\u001b[39m(array: List[Any], appended: List[Any]) \u001b[38;5;241m-\u001b[39m\u001b[38;5;241m>\u001b[39m List[Any]:  \u001b[38;5;66;03m#1: def rextend(array: List[Any], appended: List[Any]) -> List[Any]:\u001b[39;00m\n\u001b[0;32m----> 2\u001b[0m     \u001b[43marray\u001b[49m\u001b[38;5;241;43m.\u001b[39;49m\u001b[43mextend\u001b[49m(appended)  \u001b[38;5;66;03m#2:     array.extend(appended)\u001b[39;00m\n\u001b[1;32m      3\u001b[0m     \u001b[38;5;28;01mreturn\u001b[39;00m array\n",
      "\u001b[0;31mAttributeError\u001b[0m: 'int' object has no attribute 'extend'"
     ]
    }
   ],
   "source": [
    "mergesort([1, 3, 2, 5, 7, 100, -100])"
   ]
  },
  {
   "cell_type": "markdown",
   "id": "6f01daf9-8293-4bd0-9153-b284c7392026",
   "metadata": {},
   "source": [
    "## Coconut"
   ]
  },
  {
   "cell_type": "code",
   "execution_count": 15,
   "id": "aeb28177-417f-4ac0-89f6-416642cf69db",
   "metadata": {},
   "outputs": [],
   "source": [
    "def mergesort([x]) = [x]\n",
    "\n",
    "addpattern match def mergesort(array) =\n",
    "    merge(mergesort(array[:len(array) // 2]), mergesort(array[len(array) // 2:]))"
   ]
  },
  {
   "cell_type": "code",
   "execution_count": 14,
   "id": "bcceed7d-5309-44fd-a3bf-671eba9b8c51",
   "metadata": {},
   "outputs": [
    {
     "data": {
      "text/plain": [
       "[-100, -59, 1, 10, 22]"
      ]
     },
     "execution_count": 14,
     "metadata": {},
     "output_type": "execute_result"
    }
   ],
   "source": [
    "mergesort([1, -100, 10, 22, -59])"
   ]
  }
 ],
 "metadata": {
  "kernelspec": {
   "display_name": "Coconut",
   "language": "coconut",
   "name": "coconut"
  },
  "language_info": {
   "codemirror_mode": {
    "name": "python",
    "version": 3
   },
   "file_extension": ".coco",
   "mimetype": "text/x-python3",
   "name": "coconut",
   "pygments_lexer": "coconut",
   "version": "3.0.0"
  }
 },
 "nbformat": 4,
 "nbformat_minor": 5
}
