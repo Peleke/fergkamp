{
 "cells": [
  {
   "cell_type": "markdown",
   "id": "f2506765-74ab-4f81-a1bf-e8111e9ff9f0",
   "metadata": {},
   "source": [
    "# Dijkstra's Algorithm"
   ]
  },
  {
   "cell_type": "markdown",
   "id": "5bac221b-6683-4c4c-9626-23a56041b746",
   "metadata": {},
   "source": [
    "Dijkstra's algorithm is a popular graph search algorithm used to find the shortest path between two nodes in a graph. It works by iteratively selecting the node with the minimum distance from a set of unvisited nodes and updating the distances of its neighboring nodes. Dijkstra's algorithm is commonly used in navigation systems, network routing protocols, and other applications that involve finding the shortest path."
   ]
  },
  {
   "cell_type": "markdown",
   "id": "8bba2088-f1ef-4930-a6aa-7926b5ebea3d",
   "metadata": {},
   "source": [
    "Here's how Dijkstra's algorithm works:\n",
    "- Initialize the algorithm by setting the distance of the starting node to 0 and the distances of all other nodes to infinity.\n",
    "- Mark all nodes as unvisited.\n",
    "- Select the node with the smallest distance (initially the starting node) and visit it.\n",
    "- For each neighboring node of the visited node, calculate the distance from the starting node through the visited node. If this distance is smaller than the current recorded distance for the neighboring node, update the distance.\n",
    "- Mark the visited node as visited.\n",
    "- Repeat steps 3-5 until all nodes have been visited or the target node is reached.\n",
    "- The shortest path from the starting node to any other node can be obtained by following the recorded distances and backtracking from the target node to the starting node."
   ]
  },
  {
   "cell_type": "markdown",
   "id": "00e67706-a5ae-45ad-b8f3-193f7a894f65",
   "metadata": {},
   "source": [
    "For example, consider a graph representing cities and their distances from each other. Let's say we want to find the shortest path from City A to City E using Dijkstra's algorithm.\n",
    "\n",
    "Here's an example of how Dijkstra's algorithm would work:\n",
    "- Initialize the algorithm by setting the distance of City A to 0 and the distances of all other cities to infinity.\n",
    "- Select City A as the current node and mark it as visited.\n",
    "- Calculate the distances of the neighboring cities of City A: City B (4), City C (2), City D (7).\n",
    "- Among the neighboring cities, select the city with the smallest distance (City C) and mark it as visited.\n",
    "- Update the distances of the neighboring cities of City C: City A (0), City D (5), City E (2).\n",
    "- Among the unvisited cities, select the city with the smallest distance (City E) and mark it as visited.\n",
    "- The target city (City E) has been reached. The shortest path from City A to City E is: A -> C -> E."
   ]
  },
  {
   "cell_type": "markdown",
   "id": "8e459b12-e580-4896-99cb-07a96a659b7d",
   "metadata": {},
   "source": [
    "Here's an ASCII animation of how Dijkstra's algorithm works:\n",
    "\n",
    "```less\n",
    "Initial graph:\n",
    "\n",
    "         A\n",
    "      3 / \\ 5\n",
    "       B   C\n",
    "    4 / \\ 2| \\ 6\n",
    "     D   E |  F\n",
    "      \\ /  | / \\\n",
    "       G   H   I\n",
    "\n",
    "Step 1: Starting from A\n",
    "Visited: A (distance: 0)\n",
    "\n",
    "Step 2: Visiting B\n",
    "Visited: A, B (distance: 0, 3)\n",
    "\n",
    "Step 3: Visiting C\n",
    "Visited: A, B, C (distance: 0, 3, 5)\n",
    "\n",
    "Step 4: Visiting E\n",
    "Visited: A, B, C, E (distance: 0, 3, 5, 7)\n",
    "\n",
    "Step 5: Visiting D\n",
    "Visited: A, B, C, E, D (distance: 0, 3, 5, 7, 9)\n",
    "\n",
    "Step 6: Visiting F\n",
    "Visited: A, B, C, E, D, F (distance: 0, 3, 5, 7, 9, 11)\n",
    "\n",
    "Step 7: Visiting H\n",
    "Visited: A, B, C, E, D, F, H (distance: 0, 3, 5, 7, 9, 11, 13)\n",
    "\n",
    "Step 8: Visiting G\n",
    "Visited: A, B, C, E, D, F, H, G (distance: 0, 3, 5, 7, 9, 11, 13, 15)\n",
    "\n",
    "Step 9: Visiting I\n",
    "Visited: A, B, C, E, D, F, H, G, I (distance: 0, 3, 5, 7, 9, 11, 13, 15, 17)\n",
    "\n",
    "The shortest path from A to I: A -> C -> H -> I\n",
    "```"
   ]
  },
  {
   "cell_type": "markdown",
   "id": "68b121e9-409c-4577-b63b-7a82facdb3ac",
   "metadata": {},
   "source": [
    "The space complexity of Dijkstra's algorithm is O(V), where V is the number of vertices in the graph. It is because it requires space to store the distances and visited status for each node in the graph.\n",
    "\n",
    "The time complexity of Dijkstra's algorithm using a binary heap or Fibonacci heap as the priority queue implementation is O((V + E) log V), where V is the number of vertices and E is the number of edges in the graph. The priority queue helps in efficiently selecting the node with the minimum distance. However, if a simple array-based priority queue is used, the time complexity becomes O(V^2 + E), which is less efficient for dense graphs.\n",
    "\n",
    "Regarding the recursive version, Dijkstra's algorithm is typically implemented iteratively and does not have a commonly used recursive version."
   ]
  },
  {
   "cell_type": "markdown",
   "id": "8ffaa015-5fb5-499e-93ee-40e1b8df03da",
   "metadata": {},
   "source": [
    "## Implementation"
   ]
  },
  {
   "cell_type": "code",
   "execution_count": 205,
   "id": "e0e9dd4c-9f21-40b5-acf3-8a9d0ab4d93f",
   "metadata": {},
   "outputs": [],
   "source": [
    "from collections import deque\n",
    "from typing import Dict, Tuple"
   ]
  },
  {
   "cell_type": "markdown",
   "id": "cd8a03a2-7ead-4a09-90d4-79499628eeb2",
   "metadata": {},
   "source": [
    "### Data Structure"
   ]
  },
  {
   "cell_type": "markdown",
   "id": "430378e5-956f-462a-9208-e189ab938227",
   "metadata": {},
   "source": [
    "Below is a data structure that represents a weighted directed graph, and which can be used for Dijkstra's algorithm.\n",
    "\n",
    "Here's a breakdown of the graph:\n",
    "- Node \"a\" has two neighbors, \"b\" and \"c\", with corresponding edge weights of 2 and 4, respectively. This is the _start_ node.\n",
    "- Node \"b\" has two neighbors, \"c\" and \"d\", with corresponding edge weights of 1 and 10, respectively.\n",
    "- Node \"c\" has one neighbor, \"d\", with an edge weight of 15.\n",
    "- Node \"d\" has one neighbor, \"e\", with an edge weight of 7.\n",
    "- Node \"e\" has one neighbor, \"f\", with an edge weight of 2.\n",
    "- Node \"f\" has no neighbors. This is the _finish_ node."
   ]
  },
  {
   "cell_type": "markdown",
   "id": "626578b8-097a-467f-89e4-c5b1dd0eb81e",
   "metadata": {},
   "source": [
    "The graph can be visualized as follows:"
   ]
  },
  {
   "cell_type": "markdown",
   "id": "cb7763b4-3c6a-4524-ae90-5a53bd3a05f3",
   "metadata": {},
   "source": [
    "```rust\n",
    "       +---2---+\n",
    "       |       |\n",
    "   +--- v ---1--+\n",
    "   |           |\n",
    "   a---4--->b---10--->d---7--->e---2--->f\n",
    "       |           |\n",
    "       +---15--->c---+\n",
    "\n",
    "```"
   ]
  },
  {
   "cell_type": "markdown",
   "id": "590b43b1-05df-46f0-8380-63f67f7e60b1",
   "metadata": {},
   "source": [
    "_**Note**: This diagram makes no sense to me; it's from Chat GPT._"
   ]
  },
  {
   "cell_type": "code",
   "execution_count": null,
   "id": "976d11ce-117c-4496-a33a-28309b9b0f3b",
   "metadata": {},
   "outputs": [],
   "source": [
    "graph = {}"
   ]
  },
  {
   "cell_type": "code",
   "execution_count": 119,
   "id": "68760213-a0fd-46e8-bb5f-a4ede54b44ec",
   "metadata": {},
   "outputs": [],
   "source": [
    "graph[\"a\"] = {\n",
    "    \"b\": 2,\n",
    "    \"c\": 4,\n",
    "}\n",
    "\n",
    "graph[\"b\"] = {\n",
    "    \"c\": 1,\n",
    "    \"d\": 10,\n",
    "}\n",
    "\n",
    "graph[\"c\"] = {\n",
    "    \"d\": 15,\n",
    "}\n",
    "\n",
    "graph[\"d\"] = {\n",
    "    \"e\": 7,\n",
    "}\n",
    "\n",
    "graph[\"e\"] = {\n",
    "    \"f\": 2,\n",
    "}\n",
    "\n",
    "graph[\"f\"] = {}"
   ]
  },
  {
   "cell_type": "markdown",
   "id": "f159df25-10e7-4dc6-a7b0-13b7c4a18924",
   "metadata": {},
   "source": [
    "### Helpers"
   ]
  },
  {
   "cell_type": "markdown",
   "id": "f67c7381-9c91-449f-ab1e-47ec0c2a31d9",
   "metadata": {},
   "source": [
    "Dijkstra's algorithm requires us to maintain a map of distances from the root/start node to every other note, e.g.:\n",
    "\n",
    "```python\n",
    "{\n",
    "    \"start\": 0,\n",
    "    \"A\": 2,\n",
    "    \"B\": 4,\n",
    "    \"C\": 7,\n",
    "    \"End\": float(\"inf\"),\n",
    "}\n",
    "```\n",
    "\n",
    "The values on the right represent the shortest path from the root/start node to the corresponding key. This map is (potentially) updated on each iteration or recursion.\n",
    "\n",
    "We initialize by setting the distance from the root/start node to everything else to `float(\"inf\")`, and then resetting its distance itself to `0`; and its distance to directly connected nodes to whatever they are specified to be in the `graph`."
   ]
  },
  {
   "cell_type": "code",
   "execution_count": 196,
   "id": "8980bc5c-3a4c-44c0-b5e1-1be69820b9e3",
   "metadata": {},
   "outputs": [],
   "source": [
    "def init_distance_map(graph: Dict[str, Dict[str, int]], root: str) -> Dict[str, float]:\n",
    "    \"\"\"Accept a `graph` and return a map with 0 distance from `root` to `root`, and `float(\"inf\")` distance from `root`\n",
    "    to all other nodes.\n",
    "    \n",
    "    COMPLEXITY\n",
    "        Time   O(n)\n",
    "        Space  O(n)\n",
    "    \n",
    "    :param graph: Graph of shape `{\n",
    "            \"a\": {\"b\": 1}, \n",
    "            \"b\": {\"c\": 3}\n",
    "        }`.\n",
    "    :type graph: Dict[str, Dict[str, int]]\n",
    "    \n",
    "    :param root: Graph node at which to begin shortest path search.\n",
    "    :type str:\n",
    "    \n",
    "    :return: Return a dictionary like `{root: 0, neighbor: float(\"inf\"), ...}`.\n",
    "    :rtype: Dict[str, float]\n",
    "    \"\"\"\n",
    "    distance_map = {node: float(\"inf\") if not node == root else 0 for node in graph.keys()}\n",
    "    for node, distance in graph[root].items():\n",
    "        distance_map[node] = distance\n",
    "    return distance_map"
   ]
  },
  {
   "cell_type": "code",
   "execution_count": 195,
   "id": "9ece15da-22df-4980-9a79-d8c183178255",
   "metadata": {},
   "outputs": [
    {
     "data": {
      "text/plain": [
       "{'a': 0, 'b': 2, 'c': 4, 'd': inf, 'e': inf, 'f': inf}"
      ]
     },
     "execution_count": 195,
     "metadata": {},
     "output_type": "execute_result"
    }
   ],
   "source": [
    "init_distance_map(graph, \"a\")"
   ]
  },
  {
   "cell_type": "markdown",
   "id": "75fc4d6b-970c-4b00-9b3c-9a4d243fc836",
   "metadata": {},
   "source": [
    "Whenever we find a shorter path, we must also update a map that tracks which nodes resulted in the shortest path. \n",
    "\n",
    "We initialize by setting this \"parent\" to `None` for all elements, and resetting it to `root` for `root`'s direct children."
   ]
  },
  {
   "cell_type": "code",
   "execution_count": 201,
   "id": "4c743f12-0e1b-41a3-a805-2f03533cefc1",
   "metadata": {},
   "outputs": [],
   "source": [
    "def init_parents_map(graph: Dict[str, Dict[str, int]], root: str) -> Dict[str, float]:\n",
    "    \"\"\"Accept a `graph` and return a map with initial parent nodes for each node in the graph.\n",
    "    \n",
    "    COMPLEXITY\n",
    "        Time   O(n)\n",
    "        Space  O(n)\n",
    "    \n",
    "    :param graph: Graph of shape `{\n",
    "            \"a\": {\"b\": 1}, \n",
    "            \"b\": {\"c\": 3}\n",
    "        }`.\n",
    "    :type graph: Dict[str, Dict[str, int]]\n",
    "    \n",
    "    :param root: Graph node at which to begin parent mapping.\n",
    "    :type root: str\n",
    "    \n",
    "    :return: Return a dictionary mapping each node to its initial parent node.\n",
    "    :rtype: Dict[str, float]\n",
    "    \"\"\"\n",
    "    parents = {node: None for node in graph.keys()}\n",
    "    for neighbor in graph[root].keys():\n",
    "        parents[neighbor] = root\n",
    "    return parents"
   ]
  },
  {
   "cell_type": "code",
   "execution_count": 200,
   "id": "51b1af63-f4dc-480e-846f-ace12287d763",
   "metadata": {},
   "outputs": [
    {
     "data": {
      "text/plain": [
       "{'a': None, 'b': 'a', 'c': 'a', 'd': None, 'e': None, 'f': None}"
      ]
     },
     "execution_count": 200,
     "metadata": {},
     "output_type": "execute_result"
    }
   ],
   "source": [
    "init_parents_map(graph, \"a\")"
   ]
  },
  {
   "cell_type": "markdown",
   "id": "2c7b060d-060f-4ca3-990b-ebfe0f24c145",
   "metadata": {},
   "source": [
    "On each iteration, Dijkstra's algorithm chooses a new node to inspect. The node it chooses is the one closest to the one it just inspected, i.e., the neighbor of the current node with minimum distance.\n",
    "\n",
    "`nearest_neighbor` simply finds this nearest node."
   ]
  },
  {
   "cell_type": "code",
   "execution_count": 150,
   "id": "f94cfae3-ffce-474e-b89a-49f52e5dedef",
   "metadata": {},
   "outputs": [],
   "source": [
    "def nearest_neighbor(neighbors: Dict[str, int], distance_map: Dict[str, int]) -> str:\n",
    "    \"\"\"Given a dictionary of `neighbors` and a `distance_map`, return the nearest neighbor based on the distances.\n",
    "    \n",
    "    COMPLEXITY\n",
    "        Time   O(n)\n",
    "        Space  O(1)\n",
    "    \n",
    "    :param neighbors: A dictionary containing neighboring nodes as keys and their distances as values.\n",
    "    :type neighbors: Dict[str, int]\n",
    "    \n",
    "    :param distance_map: A dictionary mapping nodes to their distances.\n",
    "    :type distance_map: Dict[str, int]\n",
    "    \n",
    "    :return: Return the nearest neighbor based on the distances.\n",
    "    :rtype: str\n",
    "    \"\"\"\n",
    "    min_ = float(\"inf\")\n",
    "    nearest = None\n",
    "    for neighbor, distance in neighbors.items():\n",
    "        if distance < min_:\n",
    "            min_ = distance\n",
    "            nearest = neighbor\n",
    "    return nearest"
   ]
  },
  {
   "cell_type": "markdown",
   "id": "8217d08d-6b53-4aba-b476-98666d03c4f9",
   "metadata": {},
   "source": [
    "We maintain a queue of nodes to traverse. `init_nodes` is just for convenience/readability."
   ]
  },
  {
   "cell_type": "code",
   "execution_count": 202,
   "id": "ed65237a-0f8e-413f-8d2d-15bab8309ac7",
   "metadata": {},
   "outputs": [],
   "source": [
    "def init_nodes(neighbors: Dict[str, int], distance_map: Dict[str, int]) -> deque:\n",
    "    \"\"\"Initialize a queue of nodes based on the given `neighbors` and `distance_map`.\n",
    "    \n",
    "    COMPLEXITY\n",
    "        Time   O(n)\n",
    "        Space  O(n)\n",
    "    \n",
    "    :param neighbors: A dictionary containing neighboring nodes as keys and their distances as values.\n",
    "    :type neighbors: Dict[str, int]\n",
    "    \n",
    "    :param distance_map: A dictionary mapping nodes to their distances.\n",
    "    :type distance_map: Dict[str, int]\n",
    "    \n",
    "    :return: Return a deque object representing the queue of initialized nodes.\n",
    "    :rtype: deque\n",
    "    \"\"\"\n",
    "    nodes = deque()\n",
    "    nodes.append(nearest_neighbor(neighbors, distance_map))\n",
    "    return nodes"
   ]
  },
  {
   "cell_type": "code",
   "execution_count": 211,
   "id": "97ab1c50-ac49-4571-8907-d7dff240f600",
   "metadata": {},
   "outputs": [],
   "source": [
    "def validate(graph: Dict[str, Dict[str, int]], root: str) -> bool:\n",
    "    \"\"\"Validate that the `root` node is present in the given `graph`.\n",
    "    \n",
    "    :param graph: Graph of shape `{\n",
    "            \"a\": {\"b\": 1}, \n",
    "            \"b\": {\"c\": 3}\n",
    "        }`.\n",
    "    :type graph: Dict[str, Dict[str, int]]\n",
    "    \n",
    "    :param root: The node to be validated as the root in the graph.\n",
    "    :type root: str\n",
    "    \n",
    "    :return: Return `True` if the `root` node is present in the `graph`.\n",
    "    :rtype: bool\n",
    "    \n",
    "    :raises KeyError: If the `root` node is not present in the `graph`.\n",
    "    \"\"\"\n",
    "    if root not in graph:\n",
    "        raise KeyError(f\"Error: `root` not in graph: {pprint.pprint(graph)}\")"
   ]
  },
  {
   "cell_type": "code",
   "execution_count": 216,
   "id": "75556b6c-36c5-4836-bb13-754d1a4380a9",
   "metadata": {},
   "outputs": [],
   "source": [
    "def preamble(graph: Dict[str, Dict[str, int]], root: str) -> Tuple[Dict[str, int], Dict[str, str], deque]:\n",
    "    \"\"\"Validate that the `root` node is present in the given `graph` and generate the required maps.\n",
    "    \n",
    "    COMPLEXITY\n",
    "        Time   O(n)\n",
    "        Space  O(n)\n",
    "    \n",
    "    :param graph: Graph of shape `{\n",
    "            \"a\": {\"b\": 1}, \n",
    "            \"b\": {\"c\": 3}\n",
    "        }`.\n",
    "    :type graph: Dict[str, Dict[str, int]]\n",
    "    \n",
    "    :param root: The node to be used as the root in the graph.\n",
    "    :type root: str\n",
    "    \n",
    "    :return: Return a tuple containing the distance map, parents map, and deque of initialized nodes.\n",
    "    :rtype: Tuple[Dict[str, int], Dict[str, str], deque]\n",
    "    \n",
    "    :raises KeyError: If the `root` node is not present in the `graph`.\n",
    "    \"\"\"\n",
    "    validate(graph, root)\n",
    "    return (\n",
    "        distance_map := init_distance_map(graph=graph, root=root),\n",
    "        init_parents_map(graph=graph, root=root),\n",
    "        init_nodes(graph[root], distance_map),\n",
    "    )"
   ]
  },
  {
   "cell_type": "markdown",
   "id": "2db0ddd5-e2e7-48ad-8085-c914e9c04167",
   "metadata": {},
   "source": [
    "### The Big One"
   ]
  },
  {
   "cell_type": "code",
   "execution_count": 214,
   "id": "22d137a0-0e38-4295-8c4a-f359da269f27",
   "metadata": {},
   "outputs": [],
   "source": [
    "def dijkstra(graph: Dict[str, Dict[str, int]], root: str) -> Dict[str, int]:\n",
    "    \"\"\"Perform Dijkstra's algorithm on the given `graph` starting from the `root` node and return the resulting distance map.\n",
    "    \n",
    "    COMPLEXITY\n",
    "        Time   O(V^2 + E)\n",
    "        Space  O(V)\n",
    "    \n",
    "    :param graph: Graph of shape `{\n",
    "            \"a\": {\"b\": 1}, \n",
    "            \"b\": {\"c\": 3}\n",
    "        }`.\n",
    "    :type graph: Dict[str, Dict[str, int]]\n",
    "    \n",
    "    :param root: The starting node (root) for the Dijkstra's algorithm.\n",
    "    :type root: str\n",
    "    \n",
    "    :return: Return a dictionary representing the distance map after running Dijkstra's algorithm.\n",
    "    :rtype: Dict[str, int]\n",
    "    \n",
    "    :raises KeyError: If the `root` node is not present in the `graph`.\n",
    "    \"\"\"\n",
    "    distance_map, parents, nodes_to_process = preamble(graph=graph, root=root)\n",
    "\n",
    "    def _dijkstra() -> Dict[str, int]:\n",
    "        while nodes_to_process:\n",
    "            current = nodes_to_process.pop()\n",
    "            # check distance from `root` to each neighbor of `current` node\n",
    "            for neighbor in graph[current]:\n",
    "                # look at how far away each of `current` node's neighbors is\n",
    "                for neighbor, distance in graph[current].items():\n",
    "                    # if the path through this node to its `neighbor`(s) is shorter than the current past path to `neighbor`,\n",
    "                    # update the distance and parent maps with the new distance and best node, respectively\n",
    "                    if (delta := (distance_map[current] + distance)) < distance_map[neighbor]:\n",
    "                        distance_map[neighbor] = delta\n",
    "                        parents[neighbor] = current\n",
    "\n",
    "            # append nearest neighbor to list of `nodes_to_process`\n",
    "            if nn := nearest_neighbor(graph[current], distance_map):\n",
    "                nodes_to_process.append(nn)\n",
    "        return distance_map\n",
    "    \n",
    "    return _dijkstra()"
   ]
  },
  {
   "cell_type": "markdown",
   "id": "1c710c74-1afb-4cfc-b8b9-335f5b9d2bfa",
   "metadata": {},
   "source": [
    "### Test"
   ]
  },
  {
   "cell_type": "markdown",
   "id": "2b742308-36c2-4972-9640-fc484b69f01f",
   "metadata": {},
   "source": [
    "A couple test cases..."
   ]
  },
  {
   "cell_type": "code",
   "execution_count": 215,
   "id": "419e2497-1d4b-4dbf-865d-d769febead1c",
   "metadata": {},
   "outputs": [
    {
     "data": {
      "text/plain": [
       "{'a': 0, 'b': 2, 'c': 3, 'd': 12, 'e': 19, 'f': 21}"
      ]
     },
     "execution_count": 215,
     "metadata": {},
     "output_type": "execute_result"
    }
   ],
   "source": [
    "dijkstra(graph, \"a\")"
   ]
  },
  {
   "cell_type": "code",
   "execution_count": 186,
   "id": "66ff62c2-131b-408d-944b-0d10214045e7",
   "metadata": {},
   "outputs": [
    {
     "data": {
      "text/plain": [
       "{'start': 0, 'a': 5, 'b': 2, 'fin': 6}"
      ]
     },
     "execution_count": 186,
     "metadata": {},
     "output_type": "execute_result"
    }
   ],
   "source": [
    "# Graph taken from Grokking Algorithms\n",
    "dijkstra({\n",
    "    \"start\": {\n",
    "        \"a\": 6,\n",
    "        \"b\": 2,\n",
    "    },\n",
    "    \"a\": {\n",
    "        \"fin\": 1,\n",
    "    },\n",
    "    \"b\": {\n",
    "        \"a\": 3,\n",
    "        \"fin\": 5,\n",
    "    },\n",
    "    \"fin\": {},\n",
    "}, \"start\")"
   ]
  }
 ],
 "metadata": {
  "kernelspec": {
   "display_name": "Python 3 (ipykernel)",
   "language": "python",
   "name": "python3"
  },
  "language_info": {
   "codemirror_mode": {
    "name": "ipython",
    "version": 3
   },
   "file_extension": ".py",
   "mimetype": "text/x-python",
   "name": "python",
   "nbconvert_exporter": "python",
   "pygments_lexer": "ipython3",
   "version": "3.11.0"
  }
 },
 "nbformat": 4,
 "nbformat_minor": 5
}
