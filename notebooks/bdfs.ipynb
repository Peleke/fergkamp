{
 "cells": [
  {
   "cell_type": "markdown",
   "id": "7f4e8ea8-6222-41a4-aa8d-28bd60caff51",
   "metadata": {},
   "source": [
    "# Breadth/Depth First Search (B/DFS)"
   ]
  },
  {
   "cell_type": "code",
   "execution_count": 1,
   "id": "a99006ff-17d4-46b9-9d58-168b9a7ba9c5",
   "metadata": {},
   "outputs": [],
   "source": [
    "graph = {}\n",
    "graph[\"you\"] = [\"alice\", \"bob\", \"claire\"]\n",
    "graph[\"bob\"] = [\"anuj\", \"peggy\"]\n",
    "graph[\"alice\"] = [\"peggy\"]\n",
    "graph[\"claire\"] = [\"thom\", \"jonny\"]\n",
    "graph[\"anuj\"] = []\n",
    "graph[\"peggy\"] = []\n",
    "graph[\"thom\"] = []\n",
    "graph[\"jonny\"] = []"
   ]
  },
  {
   "cell_type": "code",
   "execution_count": 22,
   "id": "d3002a5b-b7ac-4661-96ab-3045ceeb8c85",
   "metadata": {},
   "outputs": [],
   "source": [
    "from collections import deque\n",
    "from typing import Any, Callable, Dict, List"
   ]
  },
  {
   "cell_type": "code",
   "execution_count": 23,
   "id": "3bd163e2-5cc4-44b6-b09a-112baceb8615",
   "metadata": {},
   "outputs": [],
   "source": [
    "def spread_into(container: List[Any], array: List[Any]):\n",
    "    return [container.append(el) for el in array]"
   ]
  },
  {
   "cell_type": "code",
   "execution_count": 40,
   "id": "ea8112a9-4693-40b1-9910-be018a89f0b1",
   "metadata": {},
   "outputs": [],
   "source": [
    "def bfs(graph: Dict[str, List[str]], root: str, process: Callable = print):\n",
    "    \"\"\"...\"\"\"\n",
    "    search_queue = deque()\n",
    "    visited = set()\n",
    "    spread_into(array=graph[root], container=search_queue)\n",
    "    \n",
    "    while len(search_queue):\n",
    "        current = search_queue.popleft()\n",
    "        if current not in visited:\n",
    "            process(current)\n",
    "            visited.add(current)\n",
    "        for edge in graph[current]:\n",
    "            search_queue.append(edge)\n",
    "    "
   ]
  },
  {
   "cell_type": "code",
   "execution_count": 41,
   "id": "110b246f-dd9c-43f4-8614-cb6cda1d89f1",
   "metadata": {},
   "outputs": [],
   "source": [
    "def dfs(graph: Dict[str, List[str]], root: str, process: Callable = print):\n",
    "    \"\"\"...\"\"\"\n",
    "    search_queue = deque()\n",
    "    visited = set()\n",
    "    spread_into(array=graph[root], container=search_queue)\n",
    "    \n",
    "    while len(search_queue):\n",
    "        current = search_queue.pop()\n",
    "        if current not in visited:\n",
    "            process(current)\n",
    "            visited.add(current)\n",
    "        for edge in graph[current]:\n",
    "            search_queue.append(edge)\n",
    "    "
   ]
  },
  {
   "cell_type": "code",
   "execution_count": 37,
   "id": "8faafd1b-3fc3-4f3e-8ae7-31084da9d443",
   "metadata": {},
   "outputs": [
    {
     "name": "stdout",
     "output_type": "stream",
     "text": [
      "alice\n",
      "bob\n",
      "claire\n",
      "peggy\n",
      "anuj\n",
      "thom\n",
      "jonny\n"
     ]
    }
   ],
   "source": [
    "bfs(graph, \"you\")"
   ]
  },
  {
   "cell_type": "code",
   "execution_count": 42,
   "id": "e1456e0a-0469-44bf-9ef5-48d63ac7f3d4",
   "metadata": {},
   "outputs": [
    {
     "name": "stdout",
     "output_type": "stream",
     "text": [
      "claire\n",
      "jonny\n",
      "thom\n",
      "bob\n",
      "peggy\n",
      "anuj\n",
      "alice\n"
     ]
    }
   ],
   "source": [
    "dfs(graph, \"you\")"
   ]
  }
 ],
 "metadata": {
  "kernelspec": {
   "display_name": "Coconut",
   "language": "coconut",
   "name": "coconut"
  },
  "language_info": {
   "codemirror_mode": {
    "name": "python",
    "version": 3
   },
   "file_extension": ".coco",
   "mimetype": "text/x-python3",
   "name": "coconut",
   "pygments_lexer": "coconut",
   "version": "3.0.0"
  }
 },
 "nbformat": 4,
 "nbformat_minor": 5
}
